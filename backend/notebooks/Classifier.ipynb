{
 "cells": [
  {
   "cell_type": "code",
   "execution_count": 8,
   "metadata": {},
   "outputs": [
    {
     "name": "stdout",
     "output_type": "stream",
     "text": [
      "1797\n",
      "KNN score: 0.961111\n"
     ]
    },
    {
     "name": "stderr",
     "output_type": "stream",
     "text": [
      "e:\\moje pliki\\programy\\.python_envs\\temperaturereader\\lib\\site-packages\\sklearn\\linear_model\\logistic.py:432: FutureWarning: Default solver will be changed to 'lbfgs' in 0.22. Specify a solver to silence this warning.\n",
      "  FutureWarning)\n",
      "e:\\moje pliki\\programy\\.python_envs\\temperaturereader\\lib\\site-packages\\sklearn\\linear_model\\logistic.py:459: FutureWarning: Default multi_class will be changed to 'auto' in 0.22. Specify the multi_class option to silence this warning.\n",
      "  \"this warning.\", FutureWarning)\n"
     ]
    },
    {
     "name": "stdout",
     "output_type": "stream",
     "text": [
      "LogisticRegression score: 0.938889\n",
      "auto\n"
     ]
    }
   ],
   "source": [
    "from sklearn import datasets, neighbors, linear_model\n",
    "\n",
    "digits = datasets.load_digits()\n",
    "X_digits = digits.data\n",
    "y_digits = digits.target\n",
    "\n",
    "n_samples = len(X_digits)\n",
    "print(n_samples)\n",
    "\n",
    "X_train = X_digits[:int(.9 * n_samples)]\n",
    "y_train = y_digits[:int(.9 * n_samples)]\n",
    "X_test = X_digits[int(.9 * n_samples):]\n",
    "y_test = y_digits[int(.9 * n_samples):]\n",
    "\n",
    "knn = neighbors.KNeighborsClassifier()\n",
    "logistic = linear_model.LogisticRegression()\n",
    "\n",
    "\n",
    "print('KNN score: %f' % knn.fit(X_train, y_train).score(X_test, y_test))\n",
    "print('LogisticRegression score: %f'\n",
    "      % logistic.fit(X_train, y_train).score(X_test, y_test))\n",
    "\n",
    "print(knn.algorithm)"
   ]
  },
  {
   "cell_type": "code",
   "execution_count": 3,
   "metadata": {},
   "outputs": [],
   "source": [
    "import sys"
   ]
  },
  {
   "cell_type": "code",
   "execution_count": 4,
   "metadata": {},
   "outputs": [
    {
     "data": {
      "text/plain": [
       "'win32'"
      ]
     },
     "execution_count": 4,
     "metadata": {},
     "output_type": "execute_result"
    }
   ],
   "source": [
    "sys.platform"
   ]
  },
  {
   "cell_type": "code",
   "execution_count": 1,
   "metadata": {},
   "outputs": [
    {
     "name": "stdout",
     "output_type": "stream",
     "text": []
    }
   ],
   "source": [
    "import sys\n",
    "import time\n",
    "\n",
    "def spinning_cursor():\n",
    "    while True:\n",
    "        for cursor in '|/-\\\\':\n",
    "            yield cursor\n",
    "\n",
    "spinner = spinning_cursor()\n",
    "for _ in range(50):\n",
    "    sys.stdout.write(next(spinner))\n",
    "    sys.stdout.flush()\n",
    "    time.sleep(0.1)\n",
    "    sys.stdout.write('\\b')"
   ]
  },
  {
   "cell_type": "code",
   "execution_count": 6,
   "metadata": {},
   "outputs": [],
   "source": [
    "from datetime import datetime\n",
    "import os"
   ]
  },
  {
   "cell_type": "code",
   "execution_count": 14,
   "metadata": {},
   "outputs": [],
   "source": [
    "folder_name = datetime.now().strftime('%Y-%m-%d_%H-%M-%S')"
   ]
  },
  {
   "cell_type": "code",
   "execution_count": 15,
   "metadata": {},
   "outputs": [],
   "source": [
    "os.mkdir(folder_name)"
   ]
  },
  {
   "cell_type": "code",
   "execution_count": 16,
   "metadata": {},
   "outputs": [
    {
     "name": "stdout",
     "output_type": "stream",
     "text": [
      "Collecting halo\n",
      "  Downloading https://files.pythonhosted.org/packages/9d/62/4947ef7e890d86e7bd7478a6eef4e4141015e7a1342adc5c75e23b6df61b/halo-0.0.21.tar.gz\n",
      "Collecting log_symbols==0.0.11 (from halo)\n",
      "  Downloading https://files.pythonhosted.org/packages/9a/bf/e9509fe2481a4e2b0432dad049126320d5aac5b20edbe67c2e993a151178/log_symbols-0.0.11.tar.gz\n",
      "Collecting spinners==0.0.23 (from halo)\n",
      "  Downloading https://files.pythonhosted.org/packages/01/3f/156b7faa2cbadd35a504c9ee852db32e07ff5f106bbf288d49b22b061135/spinners-0.0.23.tar.gz\n",
      "Collecting cursor==1.2.0 (from halo)\n",
      "  Downloading https://files.pythonhosted.org/packages/23/0d/bec47260080d5e4b1d88a08b31c6c44b476a9c7509e41b1d84967027d32d/cursor-1.2.0.tar.gz\n",
      "Collecting termcolor==1.1.0 (from halo)\n",
      "  Downloading https://files.pythonhosted.org/packages/8a/48/a76be51647d0eb9f10e2a4511bf3ffb8cc1e6b14e9e4fab46173aa79f981/termcolor-1.1.0.tar.gz\n",
      "Requirement already satisfied: colorama==0.3.9 in c:\\programdata\\anaconda3\\lib\\site-packages (from halo)\n",
      "Requirement already satisfied: six==1.11.0 in c:\\programdata\\anaconda3\\lib\\site-packages (from halo)\n",
      "Requirement already satisfied: enum34==1.1.6 in c:\\programdata\\anaconda3\\lib\\site-packages (from log_symbols==0.0.11->halo)\n",
      "Building wheels for collected packages: halo, log-symbols, spinners, cursor, termcolor\n",
      "  Running setup.py bdist_wheel for halo: started\n",
      "  Running setup.py bdist_wheel for halo: finished with status 'done'\n",
      "  Stored in directory: C:\\Users\\kszcz\\AppData\\Local\\pip\\Cache\\wheels\\30\\26\\81\\7653de3f3b0a9df104b28b83a9c86124fb1b0908a335c5bc8b\n",
      "  Running setup.py bdist_wheel for log-symbols: started\n",
      "  Running setup.py bdist_wheel for log-symbols: finished with status 'done'\n",
      "  Stored in directory: C:\\Users\\kszcz\\AppData\\Local\\pip\\Cache\\wheels\\cb\\21\\5a\\57f2c2f1819676084aad85c1892a3b14b570a0f2e502088ac7\n",
      "  Running setup.py bdist_wheel for spinners: started\n",
      "  Running setup.py bdist_wheel for spinners: finished with status 'done'\n",
      "  Stored in directory: C:\\Users\\kszcz\\AppData\\Local\\pip\\Cache\\wheels\\12\\3b\\c3\\c775066327b56d35490938eb8dee8b4b4678dd5785ade5e07a\n",
      "  Running setup.py bdist_wheel for cursor: started\n",
      "  Running setup.py bdist_wheel for cursor: finished with status 'done'\n",
      "  Stored in directory: C:\\Users\\kszcz\\AppData\\Local\\pip\\Cache\\wheels\\d8\\8f\\e1\\7545e5c663cda30bc71ae16b9a7c8ff5a615d29196dcaaa54c\n",
      "  Running setup.py bdist_wheel for termcolor: started\n",
      "  Running setup.py bdist_wheel for termcolor: finished with status 'done'\n",
      "  Stored in directory: C:\\Users\\kszcz\\AppData\\Local\\pip\\Cache\\wheels\\7c\\06\\54\\bc84598ba1daf8f970247f550b175aaaee85f68b4b0c5ab2c6\n",
      "Successfully built halo log-symbols spinners cursor termcolor\n",
      "Installing collected packages: log-symbols, spinners, cursor, termcolor, halo\n",
      "Successfully installed cursor-1.2.0 halo-0.0.21 log-symbols-0.0.11 spinners-0.0.23 termcolor-1.1.0\n"
     ]
    },
    {
     "name": "stderr",
     "output_type": "stream",
     "text": [
      "You are using pip version 9.0.1, however version 18.1 is available.\n",
      "You should consider upgrading via the 'python -m pip install --upgrade pip' command.\n"
     ]
    }
   ],
   "source": [
    "!pip install halo"
   ]
  },
  {
   "cell_type": "code",
   "execution_count": 17,
   "metadata": {},
   "outputs": [],
   "source": [
    "from halo import Halo"
   ]
  },
  {
   "cell_type": "code",
   "execution_count": 21,
   "metadata": {},
   "outputs": [
    {
     "name": "stdout",
     "output_type": "stream",
     "text": [
      "- Downloading dataset.zip\\ Downloading dataset.zip| 0% Downloaded dataset.zip/ 0% Downloaded dataset.zip- 0% Downloaded dataset.zip\\ 0% Downloaded dataset.zip| 0% Downloaded dataset.zip/ 1% Downloaded dataset.zip- 1% Downloaded dataset.zip\\ 1% Downloaded dataset.zip| 1% Downloaded dataset.zip/ 1% Downloaded dataset.zip- 2% Downloaded dataset.zip\\ 3% Downloaded dataset.zip| 4% Downloaded dataset.zip/ 4% Downloaded dataset.zip- 4% Downloaded dataset.zip\\ 4% Downloaded dataset.zip| 4% Downloaded dataset.zip/ 5% Downloaded dataset.zip- 6% Downloaded dataset.zip\\ 6% Downloaded dataset.zip| 6% Downloaded dataset.zip/ 6% Downloaded dataset.zip- 6% Downloaded dataset.zip\\ 7% Downloaded dataset.zip| 7% Downloaded dataset.zip/ 7% Downloaded dataset.zip- 7% Downloaded dataset.zip\\ 7% Downloaded dataset.zip| 7% Downloaded dataset.zip/ 8% Downloaded dataset.zip- 8% Downloaded dataset.zip\\ 8% Downloaded dataset.zip| 8% Downloaded dataset.zip/ 9% Downloaded dataset.zip- 9% Downloaded dataset.zip\\ 9% Downloaded dataset.zip| 10% Downloaded dataset.zip/ 10% Downloaded dataset.zip- 10% Downloaded dataset.zip\\ 11% Downloaded dataset.zip| 12% Downloaded dataset.zip/ 12% Downloaded dataset.zip- 13% Downloaded dataset.zip\\ 13% Downloaded dataset.zip| 13% Downloaded dataset.zip/ 13% Downloaded dataset.zip- 14% Downloaded dataset.zip\\ 15% Downloaded dataset.zip| 15% Downloaded dataset.zip/ 15% Downloaded dataset.zip- 15% Downloaded dataset.zip\\ 15% Downloaded dataset.zip| 16% Downloaded dataset.zip/ 16% Downloaded dataset.zip- 16% Downloaded dataset.zip\\ 16% Downloaded dataset.zip| 18% Downloaded dataset.zip/ 18% Downloaded dataset.zip- 18% Downloaded dataset.zip\\ 18% Downloaded dataset.zip| 19% Downloaded dataset.zip/ 19% Downloaded dataset.zip- 19% Downloaded dataset.zip\\ 19% Downloaded dataset.zip| 20% Downloaded dataset.zip/ 20% Downloaded dataset.zip- 21% Downloaded dataset.zip\\ 21% Downloaded dataset.zip| 21% Downloaded dataset.zip/ 23% Downloaded dataset.zip- 23% Downloaded dataset.zip\\ 23% Downloaded dataset.zip| 23% Downloaded dataset.zip/ 24% Downloaded dataset.zip- 25% Downloaded dataset.zip\\ 26% Downloaded dataset.zip| 26% Downloaded dataset.zip/ 26% Downloaded dataset.zip- 27% Downloaded dataset.zip\\ 28% Downloaded dataset.zip| 28% Downloaded dataset.zip/ 28% Downloaded dataset.zip- 28% Downloaded dataset.zip\\ 28% Downloaded dataset.zip| 28% Downloaded dataset.zip/ 29% Downloaded dataset.zip- 29% Downloaded dataset.zip\\ 29% Downloaded dataset.zip| 29% Downloaded dataset.zip/ 30% Downloaded dataset.zip- 30% Downloaded dataset.zip\\ 31% Downloaded dataset.zip| 31% Downloaded dataset.zip/ 32% Downloaded dataset.zip- 32% Downloaded dataset.zip\\ 32% Downloaded dataset.zip| 32% Downloaded dataset.zip/ 32% Downloaded dataset.zip- 32% Downloaded dataset.zip\\ 33% Downloaded dataset.zip| 33% Downloaded dataset.zip/ 33% Downloaded dataset.zip- 33% Downloaded dataset.zip\\ 33% Downloaded dataset.zip| 33% Downloaded dataset.zip/ 34% Downloaded dataset.zip- 34% Downloaded dataset.zip\\ 34% Downloaded dataset.zip| 34% Downloaded dataset.zip/ 35% Downloaded dataset.zip- 35% Downloaded dataset.zip\\ 35% Downloaded dataset.zip| 35% Downloaded dataset.zip/ 35% Downloaded dataset.zip- 36% Downloaded dataset.zip\\ 36% Downloaded dataset.zip| 36% Downloaded dataset.zip/ 36% Downloaded dataset.zip- 36% Downloaded dataset.zip\\ 37% Downloaded dataset.zip| 37% Downloaded dataset.zip/ 37% Downloaded dataset.zip- 37% Downloaded dataset.zip\\ 37% Downloaded dataset.zip| 38% Downloaded dataset.zip/ 38% Downloaded dataset.zip- 38% Downloaded dataset.zip\\ 39% Downloaded dataset.zip| 39% Downloaded dataset.zip/ 39% Downloaded dataset.zip- 40% Downloaded dataset.zip\\ 40% Downloaded dataset.zip| 40% Downloaded dataset.zip/ 40% Downloaded dataset.zip- 40% Downloaded dataset.zip\\ 40% Downloaded dataset.zip| 40% Downloaded dataset.zip/ 41% Downloaded dataset.zip- 41% Downloaded dataset.zip\\ 41% Downloaded dataset.zip| 42% Downloaded dataset.zip/ 42% Downloaded dataset.zip- 42% Downloaded dataset.zip\\ 42% Downloaded dataset.zip| 42% Downloaded dataset.zip/ 43% Downloaded dataset.zip- 43% Downloaded dataset.zip\\ 43% Downloaded dataset.zip| 43% Downloaded dataset.zip/ 44% Downloaded dataset.zip- 45% Downloaded dataset.zip\\ 45% Downloaded dataset.zip| 45% Downloaded dataset.zip/ 45% Downloaded dataset.zip- 45% Downloaded dataset.zip\\ 45% Downloaded dataset.zip| 46% Downloaded dataset.zip/ 46% Downloaded dataset.zip- 46% Downloaded dataset.zip\\ 46% Downloaded dataset.zip| 46% Downloaded dataset.zip/ 46% Downloaded dataset.zip- 47% Downloaded dataset.zip\\ 48% Downloaded dataset.zip| 48% Downloaded dataset.zip/ 48% Downloaded dataset.zip- 48% Downloaded dataset.zip\\ 48% Downloaded dataset.zip| 48% Downloaded dataset.zip/ 49% Downloaded dataset.zip- 49% Downloaded dataset.zip\\ 49% Downloaded dataset.zip| 49% Downloaded dataset.zip/ 49% Downloaded dataset.zip- 49% Downloaded dataset.zip\\ 50% Downloaded dataset.zip| 52% Downloaded dataset.zip/ 52% Downloaded dataset.zip- 52% Downloaded dataset.zip\\ 52% Downloaded dataset.zip| 53% Downloaded dataset.zip/ 53% Downloaded dataset.zip- 53% Downloaded dataset.zip\\ 53% Downloaded dataset.zip| 53% Downloaded dataset.zip/ 53% Downloaded dataset.zip- 54% Downloaded dataset.zip\\ 54% Downloaded dataset.zip| 54% Downloaded dataset.zip/ 54% Downloaded dataset.zip- 54% Downloaded dataset.zip\\ 55% Downloaded dataset.zip| 55% Downloaded dataset.zip/ 55% Downloaded dataset.zip- 55% Downloaded dataset.zip\\ 55% Downloaded dataset.zip| 55% Downloaded dataset.zip/ 56% Downloaded dataset.zip- 56% Downloaded dataset.zip\\ 56% Downloaded dataset.zip| 56% Downloaded dataset.zip/ 56% Downloaded dataset.zip- 56% Downloaded dataset.zip\\ 57% Downloaded dataset.zip| 58% Downloaded dataset.zip/ 58% Downloaded dataset.zip- 58% Downloaded dataset.zip\\ 59% Downloaded dataset.zip| 59% Downloaded dataset.zip/ 59% Downloaded dataset.zip- 59% Downloaded dataset.zip\\ 59% Downloaded dataset.zip| 59% Downloaded dataset.zip/ 60% Downloaded dataset.zip- 60% Downloaded dataset.zip\\ 61% Downloaded dataset.zip| 61% Downloaded dataset.zip/ 62% Downloaded dataset.zip- 62% Downloaded dataset.zip\\ 62% Downloaded dataset.zip| 63% Downloaded dataset.zip/ 63% Downloaded dataset.zip- 64% Downloaded dataset.zip\\ 64% Downloaded dataset.zip| 64% Downloaded dataset.zip/ 64% Downloaded dataset.zip- 65% Downloaded dataset.zip\\ 65% Downloaded dataset.zip| 65% Downloaded dataset.zip/ 65% Downloaded dataset.zip- 65% Downloaded dataset.zip\\ 66% Downloaded dataset.zip| 66% Downloaded dataset.zip/ 66% Downloaded dataset.zip- 66% Downloaded dataset.zip\\ 66% Downloaded dataset.zip| 67% Downloaded dataset.zip/ 67% Downloaded dataset.zip- 67% Downloaded dataset.zip\\ 67% Downloaded dataset.zip| 68% Downloaded dataset.zip/ 68% Downloaded dataset.zip- 69% Downloaded dataset.zip\\ 69% Downloaded dataset.zip| 69% Downloaded dataset.zip/ 69% Downloaded dataset.zip- 70% Downloaded dataset.zip\\ 71% Downloaded dataset.zip| 71% Downloaded dataset.zip/ 71% Downloaded dataset.zip- 72% Downloaded dataset.zip\\ 72% Downloaded dataset.zip| 72% Downloaded dataset.zip/ 72% Downloaded dataset.zip- 72% Downloaded dataset.zip\\ 72% Downloaded dataset.zip| 73% Downloaded dataset.zip/ 74% Downloaded dataset.zip- 74% Downloaded dataset.zip\\ 74% Downloaded dataset.zip| 75% Downloaded dataset.zip/ 75% Downloaded dataset.zip- 76% Downloaded dataset.zip\\ 76% Downloaded dataset.zip| 76% Downloaded dataset.zip/ 76% Downloaded dataset.zip- 76% Downloaded dataset.zip\\ 77% Downloaded dataset.zip| 77% Downloaded dataset.zip/ 77% Downloaded dataset.zip- 78% Downloaded dataset.zip\\ 78% Downloaded dataset.zip| 78% Downloaded dataset.zip/ 78% Downloaded dataset.zip- 78% Downloaded dataset.zip\\ 78% Downloaded dataset.zip| 78% Downloaded dataset.zip/ 79% Downloaded dataset.zip- 79% Downloaded dataset.zip\\ 79% Downloaded dataset.zip| 80% Downloaded dataset.zip/ 80% Downloaded dataset.zip- 80% Downloaded dataset.zip\\ 80% Downloaded dataset.zip| 80% Downloaded dataset.zip/ 80% Downloaded dataset.zip- 81% Downloaded dataset.zip\\ 81% Downloaded dataset.zip| 81% Downloaded dataset.zip/ 81% Downloaded dataset.zip- 82% Downloaded dataset.zip\\ 82% Downloaded dataset.zip| 82% Downloaded dataset.zip"
     ]
    },
    {
     "name": "stdout",
     "output_type": "stream",
     "text": [
      "v 82% Downloaded dataset.zip- 82% Downloaded dataset.zip\\ 83% Downloaded dataset.zip| 85% Downloaded dataset.zip/ 87% Downloaded dataset.zip- 87% Downloaded dataset.zip\\ 87% Downloaded dataset.zip| 87% Downloaded dataset.zip/ 88% Downloaded dataset.zip- 88% Downloaded dataset.zip\\ 88% Downloaded dataset.zip| 89% Downloaded dataset.zip/ 89% Downloaded dataset.zip- 90% Downloaded dataset.zip\\ 90% Downloaded dataset.zip| 90% Downloaded dataset.zip/ 90% Downloaded dataset.zip- 90% Downloaded dataset.zip\\ 90% Downloaded dataset.zip| 91% Downloaded dataset.zip/ 91% Downloaded dataset.zip- 91% Downloaded dataset.zip\\ 91% Downloaded dataset.zip| 92% Downloaded dataset.zip/ 93% Downloaded dataset.zip- 93% Downloaded dataset.zip\\ 93% Downloaded dataset.zip| 93% Downloaded dataset.zip/ 93% Downloaded dataset.zip- 94% Downloaded dataset.zip\\ 95% Downloaded dataset.zip| 95% Downloaded dataset.zip/ 95% Downloaded dataset.zip- 95% Downloaded dataset.zip\\ 95% Downloaded dataset.zip| 95% Downloaded dataset.zip/ 96% Downloaded dataset.zip- 96% Downloaded dataset.zip\\ 96% Downloaded dataset.zip| 96% Downloaded dataset.zip/ 97% Downloaded dataset.zip- 97% Downloaded dataset.zip\\ 97% Downloaded dataset.zip| 97% Downloaded dataset.zip/ 97% Downloaded dataset.zip- 97% Downloaded dataset.zip\\ 98% Downloaded dataset.zip| 98% Downloaded dataset.zip/ 98% Downloaded dataset.zip- 98% Downloaded dataset.zip\\ 98% Downloaded dataset.zip| 98% Downloaded dataset.zip Downloaded dataset.zip\n",
      "\r"
     ]
    }
   ],
   "source": [
    "from halo import Halo\n",
    "from __future__ import unicode_literals\n",
    "import os\n",
    "import time\n",
    "import sys\n",
    "import random\n",
    "\n",
    "spinner = Halo(text='Downloading dataset.zip', spinner='dots')\n",
    "\n",
    "try:\n",
    "    spinner.start()\n",
    "    for i in range(100):\n",
    "        spinner.text = '{0}% Downloaded dataset.zip'.format(i)\n",
    "        time.sleep(random.random())\n",
    "    spinner.succeed('Downloaded dataset.zip')\n",
    "except (KeyboardInterrupt, SystemExit):\n",
    "    spinner.stop()"
   ]
  },
  {
   "cell_type": "code",
   "execution_count": null,
   "metadata": {},
   "outputs": [],
   "source": []
  }
 ],
 "metadata": {
  "kernelspec": {
   "display_name": "Python 3",
   "language": "python",
   "name": "python3"
  },
  "language_info": {
   "codemirror_mode": {
    "name": "ipython",
    "version": 3
   },
   "file_extension": ".py",
   "mimetype": "text/x-python",
   "name": "python",
   "nbconvert_exporter": "python",
   "pygments_lexer": "ipython3",
   "version": "3.6.1"
  }
 },
 "nbformat": 4,
 "nbformat_minor": 2
}
